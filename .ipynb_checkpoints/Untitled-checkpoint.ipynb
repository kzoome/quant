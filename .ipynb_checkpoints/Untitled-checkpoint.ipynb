{
 "cells": [
  {
   "cell_type": "code",
   "execution_count": 126,
   "metadata": {},
   "outputs": [],
   "source": [
    "import csv\n",
    "from datetime import datetime"
   ]
  },
  {
   "cell_type": "code",
   "execution_count": 157,
   "metadata": {},
   "outputs": [],
   "source": [
    "class Price:\n",
    "    def __init__(self, line):\n",
    "        self.timestamp = datetime.strptime(line[0], '%Y년 %m월 %d일')\n",
    "        self.close = float(line[1].replace(',',''))\n",
    "        self.open = float(line[2].replace(',',''))\n",
    "        self.high = float(line[3].replace(',',''))\n",
    "        self.low = float(line[4].replace(',',''))\n",
    "\n",
    "    def __str__(self):\n",
    "        return f\"{self.timestamp} close:{self.close} open:{self.open} high:{self.high} low:{self.low}\"\n",
    "        "
   ]
  },
  {
   "cell_type": "code",
   "execution_count": 158,
   "metadata": {},
   "outputs": [],
   "source": [
    "class Account:\n",
    "    def __init__(self, initKrw):\n",
    "        self.krw = initKrw\n",
    "        self.coin = 0.0\n",
    "        self.avgPrice = 0.0\n",
    "    \n",
    "    def __str__(self):\n",
    "        return f\"krw:{self.krw:,.0f}, coin:{self.coin:,.2f}, avgPrice:{self.avgPrice:,.2f}\"\n",
    "    \n",
    "    def GetBalance(self, price):\n",
    "        return self.krw + self.coin * price\n",
    "    \n",
    "    def BuyWithKrw(self, krwAmount, coinPrice):\n",
    "        self.krw -= krwAmount\n",
    "        coinAdded = krwAmount / coinPrice\n",
    "        self.avgPrice = (self.avgPrice * self.coin + krwAmount) / (self.coin + coinAdded)\n",
    "        self.coin += coinAdded\n",
    "        \n",
    "        if self.krw < 0.0:\n",
    "            print(\"krw Error!!\")\n",
    "    \n",
    "    def SellWithKrw(self, krwAmount, coinPrice):\n",
    "        self.krw += krwAmount\n",
    "        self.coin -= krwAmount / coinPrice\n",
    "        \n",
    "        if self.coin < 0.0:\n",
    "            print(\"coin Error!!\")\n",
    "            \n",
    "    def BuyWithCoin(self, coinAmount, coinPrice):\n",
    "        krwConsumed = coinAmount * coinPrice\n",
    "        self.krw -= krwConsumed\n",
    "        self.avgPrice = (self.avgPrice * self.coin + krwConsumed) / (self.coin + coinAmount)\n",
    "        self.coin += coinAmount\n",
    "    \n",
    "        if self.krw < 0.0:\n",
    "            print(\"krw Error!!\")\n",
    "\n",
    "    def SellWithCoin(self, coinAmount, coinPrice):\n",
    "        self.krw += coinAmount * coinPrice\n",
    "        self.coin -= coinAmount\n",
    "        \n",
    "        if self.coin < 0.0:\n",
    "            print(\"coin Error!!\")"
   ]
  },
  {
   "cell_type": "code",
   "execution_count": 200,
   "metadata": {},
   "outputs": [
    {
     "name": "stdout",
     "output_type": "stream",
     "text": [
      "['\\ufeff\"날짜\"', '종가', '오픈', '고가', '저가', '거래량', '변동 %']\n",
      "['2012년 01월 27일', '5.3', '5.3', '5.5', '5.1', '115.57K', '-0.94%']\n",
      "['2012년 01월 28일', '5.6', '5.3', '5.8', '5.3', '89.71K', '6.43%']\n",
      "['2012년 01월 29일', '5.4', '5.6', '5.7', '5.3', '46.43K', '-4.44%']\n",
      "['2012년 01월 30일', '5.5', '5.4', '5.6', '5.4', '42.30K', '2.04%']\n",
      "['2012년 01월 31일', '5.5', '5.5', '5.7', '5.4', '48.30K', '0.00%']\n",
      "['2012년 02월 01일', '6.1', '5.5', '6.2', '5.5', '115.52K', '10.95%']\n",
      "['2012년 02월 02일', '6.1', '6.1', '6.2', '5.8', '54.55K', '0.00%']\n",
      "['2012년 02월 03일', '6.0', '6.1', '6.1', '5.7', '59.28K', '-2.30%']\n",
      "['2012년 02월 04일', '5.9', '6.0', '6.0', '5.8', '20.62K', '-1.51%']\n",
      "['2012년 02월 05일', '5.7', '5.9', '5.9', '5.4', '120.34K', '-3.07%']\n"
     ]
    }
   ],
   "source": [
    "f = open('bitcoin_price.csv','r') #https://kr.investing.com/crypto/bitcoin/historical-data\n",
    "rdr = csv.reader(f)\n",
    "\n",
    "data = []\n",
    "for num, line in enumerate(rdr):\n",
    "    if num <= 10:\n",
    "        print(line)\n",
    "    if num == 0:\n",
    "        continue\n",
    "    \n",
    "    data.append(Price(line))\n",
    "    #if num == 30:\n",
    "        #break"
   ]
  },
  {
   "cell_type": "code",
   "execution_count": 210,
   "metadata": {},
   "outputs": [
    {
     "name": "stdout",
     "output_type": "stream",
     "text": [
      "balance:299,200,041 krw:110,093,184, coin:4,797.73, avgPrice:45,855.02 2022-02-27 00:00:00 close:39415.9 open:39116.6 high:39572.8 low:38230.9\n"
     ]
    }
   ],
   "source": [
    "acc = Account(10000000.0) #1000만원 가지고 시작하자.\n",
    "defaultUnit = 2000000.0\n",
    "profitRate = 0.1 \n",
    "\n",
    "for d in data:    \n",
    "    if acc.krw <= 1E-6 : #현금이 안남았으면 \n",
    "        acc.SellWithKrw(max(0.0,acc.GetBalance(d.open) - defaultUnit), d.open) #1회분만 남기고 다 판다\n",
    "    elif acc.krw <= defaultUnit : #현금이 1회분 살만큼 안남았으면, \n",
    "        acc.BuyWithKrw(acc.krw, d.open) #남은만큼 다 산다\n",
    "    else: #1회분만큼 산다\n",
    "        acc.BuyWithKrw(defaultUnit, d.open)\n",
    "        \n",
    "    #일중 10% 이익나면 다 판다\n",
    "    profitPrice = acc.avgPrice * (1.0 + profitRate)\n",
    "    if profitPrice <= d.high:\n",
    "        acc.SellWithCoin(acc.coin, profitPrice)\n",
    "        \n",
    "    #print(f\"balance:{acc.GetBalance(d.close):,.0f} {acc} {d}\")\n",
    "print(f\"balance:{acc.GetBalance(d.close):,.0f} {acc} {d}\")"
   ]
  },
  {
   "cell_type": "code",
   "execution_count": null,
   "metadata": {},
   "outputs": [],
   "source": []
  }
 ],
 "metadata": {
  "kernelspec": {
   "display_name": "Python 3",
   "language": "python",
   "name": "python3"
  },
  "language_info": {
   "codemirror_mode": {
    "name": "ipython",
    "version": 3
   },
   "file_extension": ".py",
   "mimetype": "text/x-python",
   "name": "python",
   "nbconvert_exporter": "python",
   "pygments_lexer": "ipython3",
   "version": "3.8.2"
  }
 },
 "nbformat": 4,
 "nbformat_minor": 4
}
