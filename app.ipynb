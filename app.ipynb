{
 "cells": [
  {
   "cell_type": "code",
   "execution_count": 195,
   "metadata": {},
   "outputs": [],
   "source": [
    "import csv\n",
    "from datetime import datetime\n",
    "import numpy as np\n",
    "import matplotlib.pyplot as plt\n",
    "%matplotlib inline"
   ]
  },
  {
   "cell_type": "code",
   "execution_count": 196,
   "metadata": {},
   "outputs": [],
   "source": [
    "class Price:\n",
    "    def __init__(self, line):\n",
    "        self.timestamp = datetime.strptime(line[0], '%Y년 %m월 %d일')\n",
    "        self.close = float(line[1].replace(',',''))\n",
    "        self.open = float(line[2].replace(',',''))\n",
    "        self.high = float(line[3].replace(',',''))\n",
    "        self.low = float(line[4].replace(',',''))\n",
    "\n",
    "    def __str__(self):\n",
    "        return f\"{self.timestamp} close:{self.close} open:{self.open} high:{self.high} low:{self.low}\""
   ]
  },
  {
   "cell_type": "code",
   "execution_count": 254,
   "metadata": {},
   "outputs": [],
   "source": [
    "class Account:\n",
    "    def __init__(self, initKrw, slippage):\n",
    "        self.krw = initKrw\n",
    "        self.slippage = slippage\n",
    "        self.coin = 0.0\n",
    "        self.avgPrice = 0.0\n",
    "    \n",
    "    def __str__(self):\n",
    "        return f\"krw:{self.krw:,.2f}, coin:{self.coin:,.3f}, avgPrice:{self.avgPrice:,.2f}\"\n",
    "    \n",
    "    def GetBalance(self, price):\n",
    "        return self.krw + self.coin * price\n",
    "    \n",
    "    def BuyWithKrw(self, krwAmount, coinPrice):\n",
    "        self.krw -= krwAmount\n",
    "        coinAdded = (krwAmount / coinPrice) * (1.0 - self.slippage)\n",
    "        self.avgPrice = (self.avgPrice * self.coin + krwAmount) / (self.coin + coinAdded)\n",
    "        self.coin += coinAdded\n",
    "        \n",
    "        if self.krw < 0.0:\n",
    "            print(\"krw Error!!\")\n",
    "    \n",
    "    def SellWithKrw(self, krwAmount, coinPrice):\n",
    "        self.krw += krwAmount * (1.0 - self.slippage)\n",
    "        self.coin -= krwAmount / coinPrice\n",
    "        \n",
    "        if self.coin < 0.0:\n",
    "            print(\"coin Error!!\")\n",
    "            \n",
    "    def BuyWithCoin(self, coinAmount, coinPrice):\n",
    "        krwConsumed = coinAmount * coinPrice\n",
    "        self.krw -= krwConsumed\n",
    "        self.avgPrice = (self.avgPrice * self.coin + krwConsumed) / (self.coin + coinAmount)\n",
    "        self.coin += coinAmount * (1.0 - self.slippage)\n",
    "    \n",
    "        if self.krw < 0.0:\n",
    "            print(\"krw Error!!\")\n",
    "\n",
    "    def SellWithCoin(self, coinAmount, coinPrice):\n",
    "        self.krw += coinAmount * coinPrice * (1.0 - self.slippage)\n",
    "        self.coin -= coinAmount\n",
    "        \n",
    "        if self.coin < 0.0:\n",
    "            print(\"coin Error!!\")"
   ]
  },
  {
   "cell_type": "code",
   "execution_count": 211,
   "metadata": {},
   "outputs": [
    {
     "name": "stdout",
     "output_type": "stream",
     "text": [
      "['\\ufeff\"날짜\"', '종가', '오픈', '고가', '저가', '거래량', '변동 %']\n",
      "['2016년 03월 10일', '11.75', '11.20', '11.85', '11.07', '0.00K', '4.91%']\n",
      "['2016년 03월 11일', '11.95', '11.75', '11.95', '11.75', '0.18K', '1.70%']\n",
      "['2016년 03월 12일', '12.92', '11.95', '13.45', '11.95', '0.83K', '8.12%']\n"
     ]
    }
   ],
   "source": [
    "#f = open('bitcoin_price.csv','r') #https://kr.investing.com/crypto/bitcoin/historical-data\n",
    "f = open('ethereum_price.csv','r') #https://kr.investing.com/crypto/bitcoin/historical-data\n",
    "rdr = csv.reader(f)\n",
    "\n",
    "data = []\n",
    "for num, line in enumerate(rdr):\n",
    "    if num <= 3:\n",
    "        print(line)\n",
    "    if num == 0:\n",
    "        continue\n",
    "    data.append(Price(line))\n"
   ]
  },
  {
   "cell_type": "code",
   "execution_count": 212,
   "metadata": {},
   "outputs": [],
   "source": [
    "def simpleInfiniteBuy(initBalance, fraction, profitRate, slippage=0.001, fromYear=2012, toYear=2022):\n",
    "    acc = Account(initBalance, slippage)\n",
    "\n",
    "    unit = initBalance / fraction\n",
    "    numProfit = 0\n",
    "    numFail = 0\n",
    "    days = 0\n",
    "\n",
    "    for d in data:    \n",
    "        if d.timestamp.year < fromYear or d.timestamp.year > toYear:\n",
    "            continue\n",
    "            \n",
    "        days += 1\n",
    "        \n",
    "        if acc.krw <= 1E-6 :\n",
    "            numFail += 1\n",
    "            acc.SellWithCoin(acc.coin, d.open)            \n",
    "            unit = acc.krw / fraction\n",
    "\n",
    "        acc.BuyWithKrw(min(unit, acc.krw), d.open)\n",
    "\n",
    "        profitPrice = acc.avgPrice * (1.0 + profitRate)\n",
    "        if profitPrice <= d.high:\n",
    "            numProfit += 1\n",
    "            acc.SellWithCoin(acc.coin, profitPrice)\n",
    "            unit = acc.krw / fraction\n",
    "    \n",
    "    winRate = numProfit / (numProfit + numFail)\n",
    "    return winRate, acc.GetBalance(d.close), days, numProfit + numFail"
   ]
  },
  {
   "cell_type": "code",
   "execution_count": 325,
   "metadata": {},
   "outputs": [],
   "source": [
    "def smartInfiniteBuy(initBalance, fraction, profitRate, slippage=0.001, fromYear=2012, toYear=2022, debug=False):\n",
    "    acc = Account(initBalance, slippage)\n",
    "\n",
    "    unit = initBalance / fraction\n",
    "    numProfit = 0\n",
    "    numFail = 0\n",
    "    days = 0\n",
    "\n",
    "    for d in data:    \n",
    "        if d.timestamp.year < fromYear or d.timestamp.year > toYear:\n",
    "            continue\n",
    "                    \n",
    "        if acc.krw <= 1E-6:\n",
    "            if debug:print(\"fail!!\")\n",
    "            numFail += 1\n",
    "            acc.SellWithCoin(acc.coin, d.open)            \n",
    "            unit = acc.krw / fraction\n",
    "\n",
    "        if acc.coin == 0.0 \\\n",
    "            or acc.avgPrice * 0.95 > d.open:\n",
    "            acc.BuyWithKrw(min(unit, acc.krw), d.open)\n",
    "\n",
    "        profitPrice = acc.avgPrice * (1.0 + profitRate)\n",
    "        if profitPrice <= d.high:\n",
    "            if debug:print(\"succ!!\")\n",
    "            numProfit += 1\n",
    "            acc.SellWithCoin(acc.coin, profitPrice)\n",
    "            unit = acc.krw / fraction\n",
    "    \n",
    "        days += 1\n",
    "        \n",
    "        if debug:print(f\"{d} balance:{acc.GetBalance(d.close):.2f} {acc}\\n\")\n",
    "            \n",
    "    winRate = numProfit / (numProfit + numFail)\n",
    "    return winRate, acc.GetBalance(d.close), days, numProfit + numFail"
   ]
  },
  {
   "cell_type": "code",
   "execution_count": 335,
   "metadata": {},
   "outputs": [
    {
     "name": "stdout",
     "output_type": "stream",
     "text": [
      "winRate 0.986, balance 11093.6, 2182 일동안 362번 정산\n"
     ]
    }
   ],
   "source": [
    "fractions = []\n",
    "winRates = []\n",
    "balances = []\n",
    "days = []\n",
    "\n",
    "\n",
    "#winRate, balance, days, num = simpleInfiniteBuy(100.0, fraction = 30, profitRate = 0.05, slippage=0.001, fromYear=2017, toYear=2022)\n",
    "#print(f\"winRate {winRate:.3f}, balance {balance:.1f}, {days} 일동안 {num}번 정산\")\n",
    "\n",
    "#for rate in range(1, 11):\n",
    "    #winRate, balance, days, num = smartInfiniteBuy(100.0, fraction = 30, profitRate = rate/100, slippage=0.001, fromYear=2017, toYear=2022, debug=False)\n",
    "    #print(f\"winRate {winRate:.3f}, balance {balance:.1f}, {days} 일동안 {num}번 정산\")\n",
    "\n",
    "winRate, balance, days, num = smartInfiniteBuy(10000, fraction = 40, profitRate = 0.05, slippage=0.001, fromYear=2016, toYear=2022, debug=False)\n",
    "print(f\"winRate {winRate:.3f}, balance {balance:.1f}, {days} 일동안 {num}번 정산\")\n",
    "\n",
    "#    fractions.append(fraction)\n",
    "#    winRates.append(winRate)\n",
    "#    balances.append(balance)\n",
    "#    days.append(day)\n",
    "    "
   ]
  },
  {
   "cell_type": "code",
   "execution_count": 131,
   "metadata": {},
   "outputs": [
    {
     "data": {
      "text/plain": [
       "[<matplotlib.lines.Line2D at 0x133f04130>]"
      ]
     },
     "execution_count": 131,
     "metadata": {},
     "output_type": "execute_result"
    },
    {
     "data": {
      "image/png": "[encoded data removed]",
      "text/plain": [
       "<Figure size 432x288 with 1 Axes>"
      ]
     },
     "metadata": {
      "needs_background": "light"
     },
     "output_type": "display_data"
    }
   ],
   "source": [
    "plt.plot(fractions, balances)"
   ]
  }
 ],
 "metadata": {
  "kernelspec": {
   "display_name": "Python 3",
   "language": "python",
   "name": "python3"
  },
  "language_info": {
   "codemirror_mode": {
    "name": "ipython",
    "version": 3
   },
   "file_extension": ".py",
   "mimetype": "text/x-python",
   "name": "python",
   "nbconvert_exporter": "python",
   "pygments_lexer": "ipython3",
   "version": "3.8.2"
  }
 },
 "nbformat": 4,
 "nbformat_minor": 4
}
